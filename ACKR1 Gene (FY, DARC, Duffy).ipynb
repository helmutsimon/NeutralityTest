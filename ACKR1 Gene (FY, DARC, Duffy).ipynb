{
 "cells": [
  {
   "cell_type": "markdown",
   "metadata": {},
   "source": [
    "## ACKR1 Gene (FY, DARC, Duffy)\n",
    "\n",
    "For gene details, including GRCh37 coordinates, see \n",
    "https://uswest.ensembl.org/Homo_sapiens/Gene/Summary?db=core;g=ENSG00000213088;ph=31051;r=1:159203307-159206500\n",
    "\n",
    "For specific information on the 'Duffy-null allele' rs2814778 see Hodgson et. al at https://royalsocietypublishing.org/doi/full/10.1098/rspb.2014.0930"
   ]
  },
  {
   "cell_type": "code",
   "execution_count": 2,
   "metadata": {},
   "outputs": [
    {
     "name": "stdout",
     "output_type": "stream",
     "text": [
      "selectiontest version:  0.1.8\n"
     ]
    }
   ],
   "source": [
    "import os\n",
    "import numpy as np\n",
    "import pysam\n",
    "from vcf import Reader        # https://pypi.org/project/PyVCF/\n",
    "from Bio import SeqIO\n",
    "from pyliftover import LiftOver\n",
    "from cogent3 import make_table\n",
    "from selectiontest import selectiontest\n",
    "import gzip, pickle\n",
    "import pandas as pd\n",
    "\n",
    "\n",
    "#Include pathname to repository\n",
    "projdir = \"/Users/helmutsimon/repos/NeutralityTest\"\n",
    "if not os.getcwd() == projdir:\n",
    "    os.chdir(projdir)\n",
    "import vcf_1KG\n",
    "\n",
    "path = \"/Users/helmutsimon/\"\n",
    "if not os.getcwd() == path:\n",
    "    os.chdir(path)\n",
    "    \n",
    "print('selectiontest version: ', selectiontest.__version__)"
   ]
  },
  {
   "cell_type": "markdown",
   "metadata": {},
   "source": [
    "We examine the hypothesis that there is a signal of selection in populations for which the 'Duffy-null allele' rs2814778 segregates. In this cell we compute Tajima's D and $\\rho $ for the ACKR1 gene for all populations. Note that the 1KG data uses GRCh37 coordinates."
   ]
  },
  {
   "cell_type": "code",
   "execution_count": 2,
   "metadata": {},
   "outputs": [
    {
     "name": "stdout",
     "output_type": "stream",
     "text": [
      "\n",
      "Population = GWD\n",
      "Tajimas D    = -1.7979502791351145\n",
      "rho          = 1.6479156070286454\n",
      "\n",
      "Population = PJL\n",
      "Tajimas D    = -1.139366699803869\n",
      "rho          = -0.1334854632810405\n",
      "\n",
      "Population = STU\n",
      "Tajimas D    = -0.31594875347773155\n",
      "rho          = -1.6319386051790872\n",
      "\n",
      "Population = GBR\n",
      "Tajimas D    = -0.8279284349385483\n",
      "rho          = -0.5919787239233401\n",
      "\n",
      "Population = PEL\n",
      "Tajimas D    = -1.1347290062902557\n",
      "rho          = 0.5374268953091388\n",
      "\n",
      "Population = KHV\n",
      "Tajimas D    = -1.411195494797755\n",
      "rho          = 0.2951064804779069\n",
      "\n",
      "Population = CLM\n",
      "Tajimas D    = 0.45241441210415745\n",
      "rho          = -3.2691818357256466\n",
      "\n",
      "Population = CHS\n",
      "Tajimas D    = -1.9454003293896316\n",
      "rho          = 1.6977176170674055\n",
      "\n",
      "Population = IBS\n",
      "Tajimas D    = 0.055490517473711885\n",
      "rho          = -2.4812182086908656\n",
      "\n",
      "Population = ACB\n",
      "Tajimas D    = -2.0225300746419497\n",
      "rho          = 1.8420656799800401\n",
      "\n",
      "Population = ESN\n",
      "Tajimas D    = -1.8254967914375653\n",
      "rho          = 1.4322565470654007\n",
      "\n",
      "Population = JPT\n",
      "Tajimas D    = -1.980484869986106\n",
      "rho          = 2.3443168815492443\n",
      "\n",
      "Population = MSL\n",
      "Tajimas D    = -1.356583320442399\n",
      "rho          = 0.8363050407081463\n",
      "\n",
      "Population = CHB\n",
      "Tajimas D    = -1.7084052003158383\n",
      "rho          = 0.9978901302997798\n",
      "\n",
      "Population = CDX\n",
      "Tajimas D    = -1.7505230211934206\n",
      "rho          = 1.266786498462296\n",
      "\n",
      "Population = ASW\n",
      "Tajimas D    = -1.6160859445787656\n",
      "rho          = 0.8274274540424011\n",
      "\n",
      "Population = CEU\n",
      "Tajimas D    = -0.079671445795399\n",
      "rho          = -2.2447728910724773\n",
      "\n",
      "Population = GIH\n",
      "Tajimas D    = 0.004054969294354199\n",
      "rho          = -1.8764835071123063\n",
      "\n",
      "Population = MXL\n",
      "Tajimas D    = -0.7003481772710984\n",
      "rho          = -0.43453459071739076\n",
      "\n",
      "Population = LWK\n",
      "Tajimas D    = -1.721610893041082\n",
      "rho          = 1.330958284476179\n",
      "\n",
      "Population = TSI\n",
      "Tajimas D    = -0.12102310458725564\n",
      "rho          = -2.585591736579339\n",
      "\n",
      "Population = BEB\n",
      "Tajimas D    = -1.250175352841491\n",
      "rho          = 0.7582764567503588\n",
      "\n",
      "Population = YRI\n",
      "Tajimas D    = -1.4906100394363593\n",
      "rho          = 0.9909755871496354\n",
      "\n",
      "Population = PUR\n",
      "Tajimas D    = -0.7615870378445956\n",
      "rho          = -1.1783526421460664\n",
      "\n",
      "Population = ITU\n",
      "Tajimas D    = -1.0459642503090707\n",
      "rho          = -0.43325393553657854\n",
      "\n",
      "Population = FIN\n",
      "Tajimas D    = -0.5664214919862677\n",
      "rho          = -1.263972524595479\n"
     ]
    }
   ],
   "source": [
    "chrom = 1\n",
    "fname = 'Data sets/1KG variants full/integrated_call_samples_v3.20130502.ALL.panel'\n",
    "panel_all = pd.read_csv(fname, sep=None, engine='python', skipinitialspace=True, index_col=0)\n",
    "vcf_filename = 'Data sets/1KG variants full/ALL.chr' + str(chrom) \\\n",
    "                + '.phase3_shapeit2_mvncall_integrated_v5a.20130502.genotypes.vcf.gz'\n",
    "vcf_file = Reader(filename=vcf_filename, compressed=True, encoding='utf-8')\n",
    "pops = list(set(panel_all['pop']))\n",
    "result_dict = dict()\n",
    "for pop in pops:\n",
    "    print('\\nPopulation =', pop)\n",
    "    panel = panel_all[panel_all['pop'] == pop]\n",
    "    #Use GRCh37 coordinates for ACKR1 gene.\n",
    "    sfs, n, non_seg_snps = vcf_1KG.get_sfs(vcf_file, panel, 1, 159173097, 159176290)\n",
    "    tajd = selectiontest.calculate_D(sfs)\n",
    "    print('Tajimas D    =', tajd)\n",
    "    rho = selectiontest.test_neutrality(sfs)\n",
    "    print('rho          =', rho)\n",
    "    result_dict[pop] = [tajd, rho]\n",
    "results = pd.DataFrame(result_dict, index=['tajd', 'rlnt'])\n",
    "results\n",
    "results.to_csv('Google Drive/Genetics/Bayes SFS/Neutrality test/gene_ACKR1_1chrom.csv')"
   ]
  },
  {
   "cell_type": "markdown",
   "metadata": {},
   "source": [
    "Find populations with selection according to $\\rho $. All are east Asian, African or African ancestry (Barbados)."
   ]
  },
  {
   "cell_type": "code",
   "execution_count": 3,
   "metadata": {},
   "outputs": [
    {
     "name": "stdout",
     "output_type": "stream",
     "text": [
      "26 18\n"
     ]
    },
    {
     "data": {
      "text/plain": [
       "Index(['GWD', 'PJL', 'GBR', 'PEL', 'KHV', 'CHS', 'ACB', 'ESN', 'JPT', 'MSL',\n",
       "       'CHB', 'CDX', 'ASW', 'MXL', 'LWK', 'BEB', 'YRI', 'ITU'],\n",
       "      dtype='object')"
      ]
     },
     "execution_count": 3,
     "metadata": {},
     "output_type": "execute_result"
    }
   ],
   "source": [
    "threshold = -1\n",
    "selection_tab = results.loc[:,results.loc['rlnt'] > threshold]\n",
    "select_pops = selection_tab.columns\n",
    "print(len(pops), len(select_pops))\n",
    "select_pops"
   ]
  },
  {
   "cell_type": "markdown",
   "metadata": {},
   "source": [
    "Find populations in which the 'Duffy-null allele' rs2814778 occurs."
   ]
  },
  {
   "cell_type": "code",
   "execution_count": 4,
   "metadata": {},
   "outputs": [
    {
     "name": "stdout",
     "output_type": "stream",
     "text": [
      "[('chr1', 159174683, '+', 20849626768)]\n",
      "rs2814778 Record(CHROM=1, POS=159174683, REF=T, ALT=[C])\n",
      "13\n"
     ]
    },
    {
     "data": {
      "text/plain": [
       "['GWD',\n",
       " 'LWK',\n",
       " 'TSI',\n",
       " 'IBS',\n",
       " 'MSL',\n",
       " 'PEL',\n",
       " 'PUR',\n",
       " 'ACB',\n",
       " 'YRI',\n",
       " 'ASW',\n",
       " 'CLM',\n",
       " 'MXL',\n",
       " 'ESN']"
      ]
     },
     "execution_count": 4,
     "metadata": {},
     "output_type": "execute_result"
    }
   ],
   "source": [
    "#First find hg19 coords for the variant\n",
    "lo = LiftOver('hg38', 'hg19')\n",
    "rs2814778_hg19loc = lo.convert_coordinate('chr1', 159204893)\n",
    "print(rs2814778_hg19loc)\n",
    "\n",
    "chrom = 1\n",
    "vcf_filename = 'Data sets/1KG variants full/ALL.chr' + str(chrom) \\\n",
    "                + '.phase3_shapeit2_mvncall_integrated_v5a.20130502.genotypes.vcf.gz'\n",
    "vcf_file = Reader(filename=vcf_filename, compressed=True, encoding='utf-8')\n",
    "snps = vcf_file.fetch(str(chrom), rs2814778_hg19loc[0][1] - 5, rs2814778_hg19loc[0][1] + 5)\n",
    "for snp in snps:\n",
    "    if snp.ID == 'rs2814778':\n",
    "        break\n",
    "print(snp.ID, snp)\n",
    "probands = list()\n",
    "for proband in snp.samples:\n",
    "    gt = proband.gt_alleles\n",
    "    if int(gt[0]) + int(gt[1]) > 0:\n",
    "    #print(proband)\n",
    "        probands.append(proband.sample)\n",
    "fname = 'Data sets/1KG variants full/integrated_call_samples_v3.20130502.ALL.panel'\n",
    "panel_all = pd.read_csv(fname, sep=None, engine='python', skipinitialspace=True, index_col=0)\n",
    "panel_all.head()\n",
    "seg_pops = list(set(panel_all.loc[probands]['pop']))\n",
    "print(len(seg_pops))\n",
    "seg_pops"
   ]
  },
  {
   "cell_type": "markdown",
   "metadata": {},
   "source": [
    "What is relation between populations undergoing selection and segregating for the 'Duffy-null allele' rs2814778. We find that rs2814778 occurs in all African populations undergoing selection, but in none of the east Asian populations."
   ]
  },
  {
   "cell_type": "code",
   "execution_count": 5,
   "metadata": {},
   "outputs": [
    {
     "name": "stdout",
     "output_type": "stream",
     "text": [
      "{'IBS', 'PUR', 'CLM', 'TSI'}\n",
      "{'CHS', 'PJL', 'JPT', 'BEB', 'GBR', 'KHV', 'CHB', 'CDX', 'ITU'}\n"
     ]
    }
   ],
   "source": [
    "print(set(seg_pops) - set(select_pops))\n",
    "print(set(select_pops) - set(seg_pops))"
   ]
  },
  {
   "cell_type": "markdown",
   "metadata": {},
   "source": [
    "Pool Asian and African populations and attempt to narrow down where selection signal occurs, looking at 800kb segments."
   ]
  },
  {
   "cell_type": "code",
   "execution_count": 6,
   "metadata": {},
   "outputs": [
    {
     "name": "stdout",
     "output_type": "stream",
     "text": [
      "\n",
      "\n"
     ]
    },
    {
     "data": {
      "text/html": [
       "<div>\n",
       "<style scoped>\n",
       "    .dataframe tbody tr th:only-of-type {\n",
       "        vertical-align: middle;\n",
       "    }\n",
       "\n",
       "    .dataframe tbody tr th {\n",
       "        vertical-align: top;\n",
       "    }\n",
       "\n",
       "    .dataframe thead th {\n",
       "        text-align: right;\n",
       "    }\n",
       "</style>\n",
       "<table border=\"1\" class=\"dataframe\">\n",
       "  <thead>\n",
       "    <tr style=\"text-align: right;\">\n",
       "      <th></th>\n",
       "      <th>afr_rho</th>\n",
       "      <th>afr_tajd</th>\n",
       "      <th>asia_rho</th>\n",
       "      <th>asia_tajd</th>\n",
       "    </tr>\n",
       "  </thead>\n",
       "  <tbody>\n",
       "    <tr>\n",
       "      <th>0</th>\n",
       "      <td>2.812617</td>\n",
       "      <td>-1.892764</td>\n",
       "      <td>1.785845</td>\n",
       "      <td>-1.691455</td>\n",
       "    </tr>\n",
       "    <tr>\n",
       "      <th>1</th>\n",
       "      <td>0.459977</td>\n",
       "      <td>-1.741939</td>\n",
       "      <td>3.166857</td>\n",
       "      <td>-1.886447</td>\n",
       "    </tr>\n",
       "    <tr>\n",
       "      <th>2</th>\n",
       "      <td>2.676828</td>\n",
       "      <td>-1.779740</td>\n",
       "      <td>1.034396</td>\n",
       "      <td>-1.364605</td>\n",
       "    </tr>\n",
       "    <tr>\n",
       "      <th>3</th>\n",
       "      <td>2.233412</td>\n",
       "      <td>-1.614551</td>\n",
       "      <td>1.301328</td>\n",
       "      <td>-1.550474</td>\n",
       "    </tr>\n",
       "  </tbody>\n",
       "</table>\n",
       "</div>"
      ],
      "text/plain": [
       "    afr_rho  afr_tajd  asia_rho  asia_tajd\n",
       "0  2.812617 -1.892764  1.785845  -1.691455\n",
       "1  0.459977 -1.741939  3.166857  -1.886447\n",
       "2  2.676828 -1.779740  1.034396  -1.364605\n",
       "3  2.233412 -1.614551  1.301328  -1.550474"
      ]
     },
     "execution_count": 6,
     "metadata": {},
     "output_type": "execute_result"
    }
   ],
   "source": [
    "def analyse_region(chrom, start_hg19, interval, pops):\n",
    "    fname = 'Data sets/1KG variants full/integrated_call_samples_v3.20130502.ALL.panel'\n",
    "    panel_all = pd.read_csv(fname, sep=None, engine='python', skipinitialspace=True, index_col=0)\n",
    "    vcf_filename = 'Data sets/1KG variants full/ALL.chr' + str(chrom) \\\n",
    "                    + '.phase3_shapeit2_mvncall_integrated_v5a.20130502.genotypes.vcf.gz'\n",
    "    vcf_file = Reader(filename=vcf_filename, compressed=True, encoding='utf-8')\n",
    "    panel = panel_all[panel_all['pop'].isin(pops)]\n",
    "    reps = 10000\n",
    "    tajd_results = list()\n",
    "    rho_results = list()\n",
    "    for segment in range(4):\n",
    "        seg_start = start_hg19 + segment * interval\n",
    "        seg_end = seg_start + interval\n",
    "        sfs, n, non_seg_snps = vcf_1KG.get_sfs(vcf_file, panel, 1, seg_start, seg_end)\n",
    "        tajd = selectiontest.calculate_D(sfs)\n",
    "        tajd_results.append(tajd)\n",
    "        rho = selectiontest.test_neutrality(sfs)\n",
    "        rho_results.append(rho)\n",
    "    return rho_results, tajd_results\n",
    "            \n",
    "chrom = 1\n",
    "start_hg19 = 159173097     # 159176290\n",
    "interval = 800\n",
    "results = pd.DataFrame()\n",
    "pops = ['YRI', 'LWK', 'GWD', 'MSL', 'ESN', 'ASW', 'ASW', 'ACB']\n",
    "#pops = ['LWK', 'GWD', 'ESN', 'ACB']\n",
    "rho_results, tajd_results = analyse_region(chrom, start_hg19, interval, pops)\n",
    "results['afr_rho'] = rho_results\n",
    "results['afr_tajd'] = tajd_results\n",
    "print('\\n')\n",
    "pops = ['JPT', 'BEB', 'CHS', 'KHV', 'CDX', 'CHB']\n",
    "#pops = ['JPT', 'CHS',  'CDX']\n",
    "rho_results, tajd_results = analyse_region(chrom, start_hg19, interval, pops)\n",
    "results['asia_rho'] = rho_results\n",
    "results['asia_tajd'] = tajd_results\n",
    "results"
   ]
  },
  {
   "cell_type": "markdown",
   "metadata": {},
   "source": [
    "Format result as Latex table."
   ]
  },
  {
   "cell_type": "code",
   "execution_count": 7,
   "metadata": {},
   "outputs": [
    {
     "name": "stdout",
     "output_type": "stream",
     "text": [
      "             Africa                Asia          \n",
      "                rho      tajd       rho      tajd\n",
      "159173097  2.812617 -1.892764  1.785845 -1.691455\n",
      "159173897  0.459977 -1.741939  3.166857 -1.886447\n",
      "159174697  2.676828 -1.779740  1.034396 -1.364605\n",
      "159175497  2.233412 -1.614551  1.301328 -1.550474\n"
     ]
    },
    {
     "name": "stderr",
     "output_type": "stream",
     "text": [
      "/Library/Frameworks/Python.framework/Versions/3.7/lib/python3.7/site-packages/cogent3/util/table.py:179: UserWarning: provided rows/header will be over ridden by DataFrame\n",
      "  \"provided rows/header will be over ridden by \" \"DataFrame\"\n"
     ]
    }
   ],
   "source": [
    "result = results.copy()\n",
    "result.columns = pd.MultiIndex.from_arrays([['Africa', 'Africa', 'Asia', 'Asia'], \\\n",
    "                                            ['rho', 'tajd', 'rho', 'tajd']])\n",
    "newix = [str((start_hg19 + interval * i)) for i in range(4)]\n",
    "result.index = newix\n",
    "print(result)\n",
    "result.insert(loc=0, column='Start of 800-bps segment', value=newix)\n",
    "t = make_table(data_frame=result, title=\"caption\", \\\n",
    "               header = ['a\\\\b', 'a\\\\b', 'a\\\\b', 'a\\\\b'], digits=2)\n",
    "t.write(\"Downloads/duffy.tex\", label=\"tab:duffy\", justify=\"lcccc\")"
   ]
  },
  {
   "cell_type": "markdown",
   "metadata": {},
   "source": [
    "Calculate appropriate thresholds for $\\rho$."
   ]
  },
  {
   "cell_type": "code",
   "execution_count": 8,
   "metadata": {},
   "outputs": [
    {
     "name": "stdout",
     "output_type": "stream",
     "text": [
      "0.22571374117049814 0.9889009982482213\n"
     ]
    }
   ],
   "source": [
    "t1 = selectiontest.compute_threshold(600, 10)\n",
    "t2 = selectiontest.compute_threshold(600, 5)\n",
    "print(t1, t2)"
   ]
  },
  {
   "cell_type": "markdown",
   "metadata": {},
   "source": [
    "Identify SNPs in east Asian populations."
   ]
  },
  {
   "cell_type": "code",
   "execution_count": 9,
   "metadata": {},
   "outputs": [
    {
     "name": "stdout",
     "output_type": "stream",
     "text": [
      "30\n"
     ]
    },
    {
     "data": {
      "text/plain": [
       "['rs183139118;rs71782098',\n",
       " 'rs563564963',\n",
       " 'rs560829766',\n",
       " 'rs182721947',\n",
       " 'rs190558956',\n",
       " 'rs535675282',\n",
       " 'rs41264467',\n",
       " 'rs558011238',\n",
       " 'rs374508775',\n",
       " 'rs3027012',\n",
       " 'rs188881743']"
      ]
     },
     "execution_count": 9,
     "metadata": {},
     "output_type": "execute_result"
    }
   ],
   "source": [
    "fname = 'Data sets/1KG variants full/integrated_call_samples_v3.20130502.ALL.panel'\n",
    "panel_all = pd.read_csv(fname, sep=None, engine='python', skipinitialspace=True, index_col=0)\n",
    "vcf_filename = 'Data sets/1KG variants full/ALL.chr' + str(chrom) \\\n",
    "                + '.phase3_shapeit2_mvncall_integrated_v5a.20130502.genotypes.vcf.gz'\n",
    "vcf_file = Reader(filename=vcf_filename, compressed=True, encoding='utf-8')\n",
    "pops = ['CDX', 'CHS', 'JPT']\n",
    "panel = panel_all[panel_all['pop'].isin(pops)]\n",
    "snps = vcf_file.fetch('1', 159173897, 159174697)\n",
    "count = 0\n",
    "seg_snps = list()\n",
    "for record in snps:\n",
    "    if record.is_snp:\n",
    "        count += 1\n",
    "    for proband in record.samples:\n",
    "        if proband.sample in panel.index:\n",
    "            gt = proband.gt_alleles\n",
    "            if int(gt[0]) + int(gt[1]) > 0:\n",
    "                seg_snps.append(record.ID)\n",
    "            \n",
    "seg_snps_asia = list(set(seg_snps))\n",
    "print(count)\n",
    "seg_snps_asia"
   ]
  },
  {
   "cell_type": "markdown",
   "metadata": {},
   "source": [
    "Identify SNPs in African populations."
   ]
  },
  {
   "cell_type": "code",
   "execution_count": 10,
   "metadata": {},
   "outputs": [
    {
     "name": "stdout",
     "output_type": "stream",
     "text": [
      "30\n",
      "['rs183139118;rs71782098', 'rs563564963', 'rs56000654', 'rs3027013', 'rs551968599', 'rs114349581', 'rs3027011', 'rs2814778', 'rs185706527', 'rs548953752', 'rs190558956', 'rs540882553', 'rs3027012']\n"
     ]
    }
   ],
   "source": [
    "seg_snps_asia = seg_snps\n",
    "pops = ['GWD', 'LWK', 'ESN', 'ACB']\n",
    "panel = panel_all[panel_all['pop'].isin(pops)]\n",
    "snps = vcf_file.fetch('1', 159173897, 159174697)\n",
    "count = 0\n",
    "seg_snps = list()\n",
    "for record in snps:\n",
    "    if record.is_snp:\n",
    "        count += 1\n",
    "    for proband in record.samples:\n",
    "        if proband.sample in panel.index:\n",
    "            gt = proband.gt_alleles\n",
    "            if int(gt[0]) + int(gt[1]) > 0:\n",
    "                seg_snps.append(record.ID)\n",
    "seg_snps_afr = list(set(seg_snps))\n",
    "print(count)\n",
    "print(seg_snps_afr)"
   ]
  },
  {
   "cell_type": "code",
   "execution_count": 11,
   "metadata": {},
   "outputs": [
    {
     "name": "stdout",
     "output_type": "stream",
     "text": [
      "{'rs560829766', 'rs374508775', 'rs535675282', 'rs41264467', 'rs558011238', 'rs182721947', 'rs188881743'}\n",
      "{'rs56000654', 'rs3027013', 'rs551968599', 'rs114349581', 'rs3027011', 'rs2814778', 'rs185706527', 'rs548953752', 'rs540882553'}\n"
     ]
    }
   ],
   "source": [
    "print(set(seg_snps_asia) - set(seg_snps_afr))\n",
    "print(set(seg_snps_afr) - set(seg_snps_asia))"
   ]
  },
  {
   "cell_type": "markdown",
   "metadata": {},
   "source": [
    "We check that the ancestral allele T for rs2814778 is a high-confidence call."
   ]
  },
  {
   "cell_type": "code",
   "execution_count": 12,
   "metadata": {},
   "outputs": [
    {
     "name": "stdout",
     "output_type": "stream",
     "text": [
      "ANCESTOR_for_chromosome:GRCh37:1:1:249250621:1\n",
      "TCTTATCTTG\n"
     ]
    }
   ],
   "source": [
    "pos37 = 159174683 - 1\n",
    "anc_filename = 'Data sets/human_ancestor_GRCh37_e59/human_ancestor_1.fa'\n",
    "for seq_record in SeqIO.parse(anc_filename, \"fasta\"):\n",
    "    print(seq_record.id)\n",
    "    print(seq_record[pos37 - 5: pos37 +5].seq)"
   ]
  },
  {
   "cell_type": "markdown",
   "metadata": {},
   "source": [
    "Look for signal of selection in GWD population for the region chr1:159173897-159174697 containing the rs2814778 variant. We compute likelihood ratio for two models M_0 being a selective model as in Hamlin (2000) and M_1 a neutral model. We use an approximate sample from M_0, which was generated by roc_simulation.py."
   ]
  },
  {
   "cell_type": "code",
   "execution_count": 3,
   "metadata": {},
   "outputs": [
    {
     "name": "stdout",
     "output_type": "stream",
     "text": [
      "\n",
      "Population               = GWD\n",
      "Log odds ratio               = -0.5848595077272247\n"
     ]
    }
   ],
   "source": [
    "pop = 'GWD'\n",
    "n = 113\n",
    "fname = '/Users/helmutsimon/Google Drive/Genetics/Software/msms/lib/data/sfs_non_neutral_duffyGWD8.pklz'\n",
    "with gzip.open(fname, 'rb') as q0:  \n",
    "    q0 = pickle.load(q0)\n",
    "row_sums = q0.sum(axis=1)\n",
    "variates0 = q0 / row_sums[:, np.newaxis]\n",
    "q1 = selectiontest.sample_wf_distribution(n , reps=10000)\n",
    "\n",
    "chrom = 1\n",
    "fname = 'Data sets/1KG variants full/integrated_call_samples_v3.20130502.ALL.panel'\n",
    "panel_all = pd.read_csv(fname, sep=None, engine='python', skipinitialspace=True, index_col=0)\n",
    "vcf_filename = 'Data sets/1KG variants full/ALL.chr' + str(chrom) \\\n",
    "                + '.phase3_shapeit2_mvncall_integrated_v5a.20130502.genotypes.vcf.gz'\n",
    "vcf_file = Reader(filename=vcf_filename, compressed=True, encoding='utf-8')\n",
    "print('\\nPopulation               =', pop)\n",
    "panel = panel_all[panel_all['pop'] == pop]\n",
    "#Use GRCh37 coordinates for FY gene.\n",
    "sfs, n, non_seg_snps = vcf_1KG.get_sfs(vcf_file, panel, 1, 159173897, 159174697)\n",
    "odds_ratio = selectiontest.test_neutrality(sfs, variates0=variates0, variates1=q1)\n",
    "print('Log odds ratio               =', odds_ratio)"
   ]
  },
  {
   "cell_type": "code",
   "execution_count": 4,
   "metadata": {},
   "outputs": [
    {
     "data": {
      "text/plain": [
       "0.2606153549998896"
      ]
     },
     "execution_count": 4,
     "metadata": {},
     "output_type": "execute_result"
    }
   ],
   "source": [
    "10 ** -.584\n"
   ]
  },
  {
   "cell_type": "code",
   "execution_count": 15,
   "metadata": {},
   "outputs": [
    {
     "data": {
      "text/plain": [
       "0.5128613839913648"
      ]
     },
     "execution_count": 15,
     "metadata": {},
     "output_type": "execute_result"
    }
   ],
   "source": [
    "10 ** -0.29"
   ]
  },
  {
   "cell_type": "code",
   "execution_count": null,
   "metadata": {},
   "outputs": [],
   "source": []
  }
 ],
 "metadata": {
  "kernelspec": {
   "display_name": "Python 3",
   "language": "python",
   "name": "python3"
  },
  "language_info": {
   "codemirror_mode": {
    "name": "ipython",
    "version": 3
   },
   "file_extension": ".py",
   "mimetype": "text/x-python",
   "name": "python",
   "nbconvert_exporter": "python",
   "pygments_lexer": "ipython3",
   "version": "3.7.3"
  }
 },
 "nbformat": 4,
 "nbformat_minor": 2
}
