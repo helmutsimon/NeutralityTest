{
 "cells": [
  {
   "cell_type": "markdown",
   "metadata": {},
   "source": [
    "## Validate genes Chromosome 2q11.1 with demography\n",
    "\n",
    "Note that the HapMap project cited uses reference human genome assembly version 34.3 (Supplementary information referenced above), which is equivalent to UCSC version hg16 (https://en.wikipedia.org/wiki/Reference_genome#Human_reference_genome)"
   ]
  },
  {
   "cell_type": "code",
   "execution_count": 1,
   "metadata": {},
   "outputs": [],
   "source": [
    "import os\n",
    "import numpy as np\n",
    "import pandas as pd\n",
    "from selectiontest import selectiontest\n",
    "import pysam\n",
    "from vcf import Reader        # https://pypi.org/project/PyVCF/\n",
    "from pyliftover import LiftOver"
   ]
  },
  {
   "cell_type": "code",
   "execution_count": 2,
   "metadata": {},
   "outputs": [],
   "source": [
    "def test_segment(vcf_file, panel, chrom, start, end, reps=10000):\n",
    "    lo = LiftOver('hg38', 'hg19')\n",
    "    start_hg19 = lo.convert_coordinate('chr2', start)[0][1]\n",
    "    end_hg19   = lo.convert_coordinate('chr2', end)[0][1]\n",
    "    print('hg19 (1KG) coordinates: ', start_hg19, end_hg19, \"(%d)\" % (end_hg19 - start_hg19))\n",
    "    sfs, n, non_seg_snps = selectiontest.vcf2sfs(vcf_file, panel, str(chrom), start_hg19, end_hg19, select_chr=True)\n",
    "    print('Sample size       =', n)\n",
    "    print('Segregating sites =', np.sum(sfs))\n",
    "    tajd = selectiontest.calculate_D(sfs)\n",
    "    print('Tajimas D         =', tajd)\n",
    "    rho = selectiontest.test_neutrality(sfs, reps=reps)\n",
    "    print('\\u03C1                 =', rho)\n",
    "    \n",
    "def test_segment_demog(vcf_file, panel, chrom, start, end, reps=10000):\n",
    "    print('Out of Africa demographic history.')\n",
    "    lo = LiftOver('hg38', 'hg19')\n",
    "    start_hg19 = lo.convert_coordinate('chr2', start)[0][1]\n",
    "    end_hg19   = lo.convert_coordinate('chr2', end)[0][1]\n",
    "    print('hg19 (1KG) coordinates: ', start_hg19, end_hg19, \"(%d)\" % (end_hg19 - start_hg19))\n",
    "    sfs, n, non_seg_snps = selectiontest.vcf2sfs(vcf_file, panel, str(chrom), start_hg19, end_hg19, select_chr=True)\n",
    "    print('Sample size       =', n)\n",
    "    print('Segregating sites =', np.sum(sfs))\n",
    "    tajd = selectiontest.calculate_D(sfs)\n",
    "    print('Tajimas D         =', tajd)\n",
    "    \n",
    "    pop_sizes = [6.6e3, 3.3e3, 1e4]\n",
    "    timepoints = [0, 500, 1500]\n",
    "    variates0 = np.empty((reps, n - 1), dtype=float)\n",
    "    for i, y in enumerate(selectiontest.piecewise_constant_variates(n, timepoints, pop_sizes, reps)):\n",
    "        variates0[i] = y[0]\n",
    "    \n",
    "    rho = selectiontest.test_neutrality(sfs, variates0=variates0, reps=reps)\n",
    "    print('\\u03C1                 =', rho)"
   ]
  },
  {
   "cell_type": "code",
   "execution_count": 3,
   "metadata": {},
   "outputs": [],
   "source": [
    "path = \"/Users/helmutsimon/\"\n",
    "if not os.getcwd() == path:\n",
    "    os.chdir(path)\n",
    "    \n",
    "chrom = 2\n",
    "fname = 'Data sets/1KG variants full/integrated_call_samples_v3.20130502.ALL.panel'\n",
    "panel_all = pd.read_csv(fname, sep=None, engine='python', skipinitialspace=True, index_col=0)\n",
    "vcf_filename = 'Data sets/1KG variants full/ALL.chr' + str(chrom) \\\n",
    "                + '.phase3_shapeit2_mvncall_integrated_v5a.20130502.genotypes.vcf.gz'\n",
    "vcf_file = Reader(filename=vcf_filename, compressed=True, encoding='utf-8')\n",
    "all_pops = ['YRI', 'LWK', 'GWD', 'MSL', 'ESN', 'ASW', 'ACB', 'CEU', 'TSI', 'FIN', 'GBR', 'IBS']\n",
    "afr_pops = ['YRI', 'LWK', 'GWD', 'MSL', 'ESN', 'ASW', 'ACB']\n",
    "eur_pops = ['CEU', 'TSI', 'FIN', 'GBR', 'IBS']\n",
    "reps = 100000"
   ]
  },
  {
   "cell_type": "markdown",
   "metadata": {},
   "source": [
    "STARD7 Sub-region A, Intron 1 for population GWD"
   ]
  },
  {
   "cell_type": "code",
   "execution_count": 4,
   "metadata": {},
   "outputs": [
    {
     "name": "stdout",
     "output_type": "stream",
     "text": [
      "hg19 (1KG) coordinates:  96861287 96873882 (12595)\n",
      "Sample size       = 113\n",
      "Segregating sites = 29\n",
      "Tajimas D         = -2.454852459684053\n",
      "ρ                 = 4.287532650676189\n"
     ]
    }
   ],
   "source": [
    "start = 96195549  #GRChr38 coordinates obtained from Ensembl\n",
    "end =   96208144 \n",
    "panel = panel_all[panel_all['pop'] == 'GWD']\n",
    "test_segment(vcf_file, panel, chrom, start, end, reps)"
   ]
  },
  {
   "cell_type": "markdown",
   "metadata": {},
   "source": [
    "STARD7 Sub-region A, Intron 1 for population CEU"
   ]
  },
  {
   "cell_type": "code",
   "execution_count": 5,
   "metadata": {},
   "outputs": [
    {
     "name": "stdout",
     "output_type": "stream",
     "text": [
      "Out of Africa demographic history.\n",
      "hg19 (1KG) coordinates:  96861287 96873882 (12595)\n",
      "Sample size       = 99\n",
      "Segregating sites = 11\n",
      "Tajimas D         = -1.5004812594200159\n",
      "ρ                 = 0.5772840075699692\n"
     ]
    }
   ],
   "source": [
    "start = 96195549  #GRChr38 coordinates obtained from Ensembl\n",
    "end =   96208144 \n",
    "panel = panel_all[panel_all['pop'] == 'CEU']\n",
    "test_segment_demog(vcf_file, panel, chrom, start, end, reps)"
   ]
  },
  {
   "cell_type": "markdown",
   "metadata": {},
   "source": [
    "TMEM127 Sub-region B, for population GWD"
   ]
  },
  {
   "cell_type": "code",
   "execution_count": 6,
   "metadata": {},
   "outputs": [
    {
     "name": "stdout",
     "output_type": "stream",
     "text": [
      "hg19 (1KG) coordinates:  96914253 96931732 (17479)\n",
      "Sample size       = 113\n",
      "Segregating sites = 40\n",
      "Tajimas D         = -2.3997298507032325\n",
      "ρ                 = 3.8998338365862217\n"
     ]
    }
   ],
   "source": [
    "start = 96248515 \n",
    "end =   96265994\n",
    "panel = panel_all[panel_all['pop'] == 'GWD']\n",
    "test_segment(vcf_file, panel, chrom, start, end, reps)"
   ]
  },
  {
   "cell_type": "markdown",
   "metadata": {},
   "source": [
    "STARD7-AS1 Sub-region B, for population GWD"
   ]
  },
  {
   "cell_type": "code",
   "execution_count": 7,
   "metadata": {},
   "outputs": [
    {
     "name": "stdout",
     "output_type": "stream",
     "text": [
      "hg19 (1KG) coordinates:  96874153 96908359 (34206)\n",
      "Sample size       = 113\n",
      "Segregating sites = 110\n",
      "Tajimas D         = -2.5665053056743026\n",
      "ρ                 = 10.244592320492602\n"
     ]
    }
   ],
   "source": [
    "start = 96208415 \n",
    "end =   96242621\n",
    "panel = panel_all[panel_all['pop'] == 'GWD']\n",
    "test_segment(vcf_file, panel, chrom, start, end, reps)"
   ]
  },
  {
   "cell_type": "markdown",
   "metadata": {},
   "source": [
    "TMEM127 Sub-region B, for population CEU"
   ]
  },
  {
   "cell_type": "code",
   "execution_count": 8,
   "metadata": {},
   "outputs": [
    {
     "name": "stdout",
     "output_type": "stream",
     "text": [
      "Out of Africa demographic history.\n",
      "hg19 (1KG) coordinates:  96914253 96931732 (17479)\n",
      "Sample size       = 99\n",
      "Segregating sites = 21\n",
      "Tajimas D         = -1.897383518956373\n",
      "ρ                 = 2.915716762685685\n"
     ]
    }
   ],
   "source": [
    "start = 96248515 \n",
    "end =   96265994\n",
    "panel = panel_all[panel_all['pop'] == 'CEU']\n",
    "test_segment_demog(vcf_file, panel, chrom, start, end, reps)"
   ]
  },
  {
   "cell_type": "markdown",
   "metadata": {},
   "source": [
    "STARD7-AS1 Sub-region B, for population CEU"
   ]
  },
  {
   "cell_type": "code",
   "execution_count": 9,
   "metadata": {},
   "outputs": [
    {
     "name": "stdout",
     "output_type": "stream",
     "text": [
      "Out of Africa demographic history.\n",
      "hg19 (1KG) coordinates:  96874153 96908359 (34206)\n",
      "Sample size       = 99\n",
      "Segregating sites = 40\n",
      "Tajimas D         = -1.3086581806809876\n",
      "ρ                 = -3.7133636532775434\n"
     ]
    }
   ],
   "source": [
    "start = 96208415 \n",
    "end =   96242621\n",
    "panel = panel_all[panel_all['pop'] == 'CEU']\n",
    "test_segment_demog(vcf_file, panel, chrom, start, end, reps)"
   ]
  },
  {
   "cell_type": "markdown",
   "metadata": {},
   "source": [
    "ENSR00000120257 promoter Sub-region C, for population GWD"
   ]
  },
  {
   "cell_type": "code",
   "execution_count": 10,
   "metadata": {},
   "outputs": [
    {
     "name": "stdout",
     "output_type": "stream",
     "text": [
      "hg19 (1KG) coordinates:  96985738 96988339 (2601)\n",
      "Sample size       = 113\n",
      "Segregating sites = 9\n",
      "Tajimas D         = -1.9802965518807067\n",
      "ρ                 = 2.012313816310838\n"
     ]
    }
   ],
   "source": [
    "start = 96320000\n",
    "end =   96322601\n",
    "panel = panel_all[panel_all['pop'] == 'GWD']\n",
    "test_segment(vcf_file, panel, chrom, start, end, reps)"
   ]
  },
  {
   "cell_type": "markdown",
   "metadata": {},
   "source": [
    "ENSR00000120257 promoter Sub-region C, for population CEU"
   ]
  },
  {
   "cell_type": "code",
   "execution_count": 11,
   "metadata": {},
   "outputs": [
    {
     "name": "stdout",
     "output_type": "stream",
     "text": [
      "Out of Africa demographic history.\n",
      "hg19 (1KG) coordinates:  96985738 96988339 (2601)\n",
      "Sample size       = 99\n",
      "Segregating sites = 2\n",
      "Tajimas D         = 0.2382482333571114\n",
      "ρ                 = -0.3312400646377731\n"
     ]
    }
   ],
   "source": [
    "start = 96320000\n",
    "end =   96322601\n",
    "panel = panel_all[panel_all['pop'] == 'CEU']\n",
    "test_segment_demog(vcf_file, panel, chrom, start, end, reps)"
   ]
  },
  {
   "cell_type": "markdown",
   "metadata": {},
   "source": [
    "NEURL3 Sub-region D, for population GWD"
   ]
  },
  {
   "cell_type": "code",
   "execution_count": 12,
   "metadata": {},
   "outputs": [
    {
     "name": "stdout",
     "output_type": "stream",
     "text": [
      "hg19 (1KG) coordinates:  97163379 97173846 (10467)\n",
      "Sample size       = 113\n",
      "Segregating sites = 30\n",
      "Tajimas D         = -1.6974948585884426\n",
      "ρ                 = 1.9998538910896837\n"
     ]
    }
   ],
   "source": [
    "start = 96497642\n",
    "end = 96508109\n",
    "panel = panel_all[panel_all['pop'] == 'GWD']\n",
    "test_segment(vcf_file, panel, chrom, start, end, reps)"
   ]
  },
  {
   "cell_type": "markdown",
   "metadata": {},
   "source": [
    "NEURL3 Sub-region D, for population CEU"
   ]
  },
  {
   "cell_type": "code",
   "execution_count": 13,
   "metadata": {},
   "outputs": [
    {
     "name": "stdout",
     "output_type": "stream",
     "text": [
      "Out of Africa demographic history.\n",
      "hg19 (1KG) coordinates:  97163379 97173846 (10467)\n",
      "Sample size       = 99\n",
      "Segregating sites = 14\n",
      "Tajimas D         = -1.8050690808287446\n",
      "ρ                 = 1.9864976685825502\n"
     ]
    }
   ],
   "source": [
    "start = 96497642\n",
    "end = 96508109\n",
    "panel = panel_all[panel_all['pop'] == 'CEU']\n",
    "test_segment_demog(vcf_file, panel, chrom, start, end, reps)"
   ]
  }
 ],
 "metadata": {
  "kernelspec": {
   "display_name": "Python 3",
   "language": "python",
   "name": "python3"
  },
  "language_info": {
   "codemirror_mode": {
    "name": "ipython",
    "version": 3
   },
   "file_extension": ".py",
   "mimetype": "text/x-python",
   "name": "python",
   "nbconvert_exporter": "python",
   "pygments_lexer": "ipython3",
   "version": "3.7.3"
  }
 },
 "nbformat": 4,
 "nbformat_minor": 2
}
