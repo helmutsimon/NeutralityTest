{
 "cells": [
  {
   "cell_type": "markdown",
   "metadata": {},
   "source": [
    "## ACKR1 gene: macaque\n",
    "\n",
    "Data from the The Macaque Genotype and Phenotype Resource (mGAP) at https://mgap.ohsu.edu/.\n",
    "\n",
    "Variant catalog 1.3.\n"
   ]
  },
  {
   "cell_type": "code",
   "execution_count": 1,
   "metadata": {},
   "outputs": [],
   "source": [
    "import os\n",
    "import numpy as np\n",
    "import pandas as pd\n",
    "from collections import Counter\n",
    "from selectiontest import selectiontest\n",
    "import pathlib\n",
    "import pysam\n",
    "from vcf import Reader        # https://pypi.org/project/PyVCF/\n",
    "from Bio import SeqIO\n",
    "import gzip, pickle"
   ]
  },
  {
   "cell_type": "markdown",
   "metadata": {},
   "source": [
    "Use ACKR1 coordinates from mGAP"
   ]
  },
  {
   "cell_type": "code",
   "execution_count": 2,
   "metadata": {},
   "outputs": [],
   "source": [
    "def cleanvcf(vcf_file,coord, start, end, select_chr=True):\n",
    "    snps = vcf_file.fetch(str(coord), start, end)\n",
    "    bad_samples = list()\n",
    "    for record in snps:\n",
    "        allele_count = 0\n",
    "        if record.is_snp:\n",
    "            for sample in record.samples:\n",
    "                if sample.gt_bases is None:\n",
    "                    bad_samples.append(sample.sample) \n",
    "    bad_samples = list(set(bad_samples))\n",
    "    return bad_samples\n",
    "    \n",
    "    \n",
    "def vcf2sfs3(vcf_file, n, coord, start, end, bad_samples, select_chr=True):\n",
    "    \"\"\"\n",
    "    Get SFS from vcf data for given population and sequence. The panel file is used to select samples.\n",
    "\n",
    "    Parameters\n",
    "    ----------\n",
    "    vcf_file: pyvcf class: Reader (https://pyvcf.readthedocs.io/en/latest/)\n",
    "        Variant details\n",
    "\n",
    "    coord: str\n",
    "        Coordinate (e.g. chromosome).\n",
    "\n",
    "    start: int\n",
    "        Start position of sequence.\n",
    "\n",
    "    end: int\n",
    "        End position of sequence.\n",
    "        \n",
    "    bad_samples: list\n",
    "        List of samples with missing data\n",
    "\n",
    "    select_chr: bool\n",
    "        If True, sample first chromosome. If False, use both.\n",
    "\n",
    "    Returns\n",
    "    -------\n",
    "    list\n",
    "        Site frequency spectrum\n",
    "\n",
    "    int\n",
    "        Sample size\n",
    "\n",
    "    list\n",
    "        Names of variants common to all elements of the sample.\n",
    "\n",
    "    \"\"\"\n",
    "    n = n - len(bad_samples)\n",
    "    if not select_chr:\n",
    "        n = 2 * n\n",
    "    snps = vcf_file.fetch(str(coord), start, end)\n",
    "    count = 0\n",
    "    allele_counts = list()\n",
    "    non_seg_snps = list()\n",
    "    for record in snps:\n",
    "        allele_count = 0\n",
    "        if record.is_snp:\n",
    "            count += 1\n",
    "            for sample in record.samples:\n",
    "                if sample.sample not in bad_samples:\n",
    "                    gt = sample.gt_alleles\n",
    "                    if select_chr:\n",
    "                        allele_count += int(gt[0])\n",
    "                    else:\n",
    "                        allele_count += int(gt[0]) + int(gt[1])\n",
    "            if 0 < allele_count < n:    #Some SNPs may not segregate in some subpopulations.\n",
    "                allele_counts.append(allele_count)\n",
    "            else:\n",
    "                non_seg_snps.append(record.POS)\n",
    "    sfs_c = Counter(allele_counts)\n",
    "    sfs = np.zeros(n - 1, int)\n",
    "    for i in sfs_c.keys():\n",
    "        sfs[i - 1] = sfs_c[i]\n",
    "    print('Total SNPs processed           = ', count)\n",
    "    return sfs, n, non_seg_snps"
   ]
  },
  {
   "cell_type": "code",
   "execution_count": 3,
   "metadata": {},
   "outputs": [
    {
     "name": "stdout",
     "output_type": "stream",
     "text": [
      "Total samples                  =  213\n",
      "No. bad samples                =  120\n",
      "Total SNPs processed           =  44\n",
      "SFS:  [2 7 3 3 0 0 0 1 0 0 1 0 0 0 0 0 0 0 0 0 0 0 0 0 0 0 0 1 0 0 1 0 0 0 0 0 0\n",
      " 1 0 0 0 0 0 0 0 0 0 0 0 0 0 0 0 0 0 0 0 0 0 0 0 0 0 0 0 0 0 0 0 0 0 0 0 0\n",
      " 0 0 0 0 0 0 0 0 0 0 0 0 0 0 0 0 0 0]\n",
      "Number of segregating sites    =  20\n",
      "Sample size                    =  93\n",
      "SNPs not segregating in sample =  24\n",
      "Rho                            =  -0.26223129593716443\n",
      "Tajima's D                     =  -1.0479684354789265\n"
     ]
    }
   ],
   "source": [
    "chrom = 'chr01'\n",
    "ACKR1_start = 133909860  # Use ACKR1 coordinates from mGAP\n",
    "ACKR1_end =   133912994\n",
    "vcf_filename = '/Users/helmutsimon/Data sets/mGAP_macaque/mGap.v1.3.vcf.gz'\n",
    "fname = pathlib.Path(vcf_filename)\n",
    "assert fname.exists(), f'No such file: {fname}'  # check that the file exists\n",
    "vcf_file = Reader(filename=vcf_filename, compressed=True, encoding='utf-8')\n",
    "nsam = len(vcf_file.samples)\n",
    "print('Total samples                  = ', nsam)\n",
    "bad_samples = cleanvcf(vcf_file, chrom, ACKR1_start, ACKR1_end)\n",
    "print('No. bad samples                = ', len(bad_samples))\n",
    "sfs, n, non_seg_snps = vcf2sfs3(vcf_file, nsam, chrom, ACKR1_start, ACKR1_end, bad_samples)\n",
    "print('SFS: ', sfs)\n",
    "print('Number of segregating sites    = ', sum(sfs))\n",
    "print('Sample size                    = ', n)\n",
    "print('SNPs not segregating in sample = ', len(non_seg_snps))\n",
    "rho = selectiontest.test_neutrality(sfs, reps=1000000)\n",
    "print('Rho                            = ', rho)\n",
    "print(\"Tajima's D                     = \", selectiontest.calculate_D(sfs))"
   ]
  }
 ],
 "metadata": {
  "kernelspec": {
   "display_name": "Python 3",
   "language": "python",
   "name": "python3"
  },
  "language_info": {
   "codemirror_mode": {
    "name": "ipython",
    "version": 3
   },
   "file_extension": ".py",
   "mimetype": "text/x-python",
   "name": "python",
   "nbconvert_exporter": "python",
   "pygments_lexer": "ipython3",
   "version": "3.7.3"
  }
 },
 "nbformat": 4,
 "nbformat_minor": 1
}
