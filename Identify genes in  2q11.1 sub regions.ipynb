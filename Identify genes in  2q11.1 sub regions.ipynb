{
 "cells": [
  {
   "cell_type": "markdown",
   "metadata": {},
   "source": [
    "## Identify genes in  2q11.1 sub regions"
   ]
  },
  {
   "cell_type": "markdown",
   "metadata": {},
   "source": [
    "Identify genes in 20-kb sub-regions as in manuscript Results.\n",
    "Regions are identified using GRCh37 (1KG) coordinates"
   ]
  },
  {
   "cell_type": "code",
   "execution_count": 1,
   "metadata": {},
   "outputs": [],
   "source": [
    "import sys, os\n",
    "from pyliftover import LiftOver\n",
    "from ensembldb3 import HostAccount, Genome\n",
    "\n",
    "\n",
    "path = '/home/helmut/helmutsimonpython/helmutsimonpython/Neighbourhood_Effects'\n",
    "if not os.getcwd() == path:\n",
    "    os.chdir(path)\n",
    "\n",
    "account = HostAccount(*os.environ['ENSEMBL_ACCOUNT'].split())\n",
    "release = 89\n",
    "genome = Genome(species='human', release=release, account=account)"
   ]
  },
  {
   "cell_type": "code",
   "execution_count": 2,
   "metadata": {},
   "outputs": [],
   "source": [
    "def locate_genes(start, end):\n",
    "    genes = genome.get_features(coord_name=coord_name, start=start, end=end, feature_types=\"gene\")\n",
    "    for gene in genes:\n",
    "        gstart = gene.location.start\n",
    "        gend = gene.location.end\n",
    "        print('\\n', gene.symbol, gstart, gend)\n",
    "        for exon in gene.canonical_transcript.exons:\n",
    "            print(exon, exon.location)\n",
    "        if gene.canonical_transcript.introns:\n",
    "            for intron in gene.canonical_transcript.introns:\n",
    "                print(intron, intron.location)"
   ]
  },
  {
   "cell_type": "markdown",
   "metadata": {},
   "source": [
    "chr2:96845244-96865244 (A)"
   ]
  },
  {
   "cell_type": "code",
   "execution_count": 3,
   "metadata": {},
   "outputs": [
    {
     "name": "stdout",
     "output_type": "stream",
     "text": [
      "96179506 96199506\n",
      "\n",
      " STARD7 96184858 96208825\n",
      "Exon(stableid=ENSE00001853520, rank=1) Homo sapiens:chromosome:2:96208144-96208818:-1\n",
      "Exon(stableid=ENSE00003614687, rank=2) Homo sapiens:chromosome:2:96195340-96195549:-1\n",
      "Exon(stableid=ENSE00003643171, rank=3) Homo sapiens:chromosome:2:96194957-96195007:-1\n",
      "Exon(stableid=ENSE00000921755, rank=4) Homo sapiens:chromosome:2:96193241-96193352:-1\n",
      "Exon(stableid=ENSE00000540421, rank=5) Homo sapiens:chromosome:2:96193077-96193160:-1\n",
      "Exon(stableid=ENSE00003663624, rank=6) Homo sapiens:chromosome:2:96192368-96192468:-1\n",
      "Exon(stableid=ENSE00003622057, rank=7) Homo sapiens:chromosome:2:96187216-96187301:-1\n",
      "Exon(stableid=ENSE00001817479, rank=8) Homo sapiens:chromosome:2:96184858-96186914:-1\n",
      "Intron(TranscriptId=ENST00000337288, rank=1) Homo sapiens:chromosome:2:96195549-96208144:-1\n",
      "Intron(TranscriptId=ENST00000337288, rank=2) Homo sapiens:chromosome:2:96195007-96195340:-1\n",
      "Intron(TranscriptId=ENST00000337288, rank=3) Homo sapiens:chromosome:2:96193352-96194957:-1\n",
      "Intron(TranscriptId=ENST00000337288, rank=4) Homo sapiens:chromosome:2:96193160-96193241:-1\n",
      "Intron(TranscriptId=ENST00000337288, rank=5) Homo sapiens:chromosome:2:96192468-96193077:-1\n",
      "Intron(TranscriptId=ENST00000337288, rank=6) Homo sapiens:chromosome:2:96187301-96192368:-1\n",
      "Intron(TranscriptId=ENST00000337288, rank=7) Homo sapiens:chromosome:2:96186914-96187216:-1\n"
     ]
    }
   ],
   "source": [
    "chrom = 'chr2'\n",
    "coord_name = '2'\n",
    "lo = LiftOver('hg19', 'hg38')\n",
    "\n",
    "start = lo.convert_coordinate(chrom, 96845244)[0][1]\n",
    "end   = lo.convert_coordinate(chrom, 96865244)[0][1]\n",
    "\n",
    "print(start, end)\n",
    "locate_genes(start, end)"
   ]
  },
  {
   "cell_type": "markdown",
   "metadata": {},
   "source": [
    "chr2:96905244-96925244 (B)"
   ]
  },
  {
   "cell_type": "code",
   "execution_count": 4,
   "metadata": {},
   "outputs": [
    {
     "name": "stdout",
     "output_type": "stream",
     "text": [
      "96239506 96259506\n",
      "\n",
      " STARD7-AS1 96208415 96242621\n",
      "Exon(stableid=ENSE00001472846, rank=1) Homo sapiens:chromosome:2:96239712-96240688:1\n",
      "Exon(stableid=ENSE00001531202, rank=2) Homo sapiens:chromosome:2:96241876-96242621:1\n",
      "Intron(TranscriptId=ENST00000432267, rank=1) Homo sapiens:chromosome:2:96240688-96241876:1\n",
      "\n",
      " TMEM127 96248515 96265994\n",
      "Exon(stableid=ENSE00001071712, rank=1) Homo sapiens:chromosome:2:96265868-96265994:-1\n",
      "Exon(stableid=ENSE00000921763, rank=2) Homo sapiens:chromosome:2:96265137-96265512:-1\n",
      "Exon(stableid=ENSE00003610373, rank=3) Homo sapiens:chromosome:2:96254832-96254997:-1\n",
      "Exon(stableid=ENSE00000921761, rank=4) Homo sapiens:chromosome:2:96248515-96254115:-1\n",
      "Intron(TranscriptId=ENST00000258439, rank=1) Homo sapiens:chromosome:2:96265512-96265868:-1\n",
      "Intron(TranscriptId=ENST00000258439, rank=2) Homo sapiens:chromosome:2:96254997-96265137:-1\n",
      "Intron(TranscriptId=ENST00000258439, rank=3) Homo sapiens:chromosome:2:96254115-96254832:-1\n",
      "\n",
      " TMEM127 5000 20806\n",
      "Exon(stableid=LRG_528t1e1, rank=1) Homo sapiens:lrg:LRG_528:5000-5145:1\n",
      "Exon(stableid=LRG_528t1e2, rank=2) Homo sapiens:lrg:LRG_528:5501-5876:1\n",
      "Exon(stableid=LRG_528t1e3, rank=3) Homo sapiens:lrg:LRG_528:16016-16181:1\n",
      "Exon(stableid=LRG_528t1e4, rank=4) Homo sapiens:lrg:LRG_528:16898-20806:1\n",
      "Intron(TranscriptId=LRG_528t1, rank=1) Homo sapiens:lrg:LRG_528:5145-5501:1\n",
      "Intron(TranscriptId=LRG_528t1, rank=2) Homo sapiens:lrg:LRG_528:5876-16016:1\n",
      "Intron(TranscriptId=LRG_528t1, rank=3) Homo sapiens:lrg:LRG_528:16181-16898:1\n"
     ]
    }
   ],
   "source": [
    "start = lo.convert_coordinate(chrom, 96905244)[0][1]\n",
    "end   = lo.convert_coordinate(chrom, 96925244)[0][1]\n",
    "\n",
    "print(start, end)\n",
    "locate_genes(start, end)"
   ]
  },
  {
   "cell_type": "markdown",
   "metadata": {},
   "source": [
    "chr2:96985244-97005244 (C)"
   ]
  },
  {
   "cell_type": "code",
   "execution_count": 5,
   "metadata": {},
   "outputs": [
    {
     "name": "stdout",
     "output_type": "stream",
     "text": [
      "96319506 96339506\n",
      "\n",
      " AC021188.1 96307262 96321731\n",
      "Exon(stableid=ENSE00001666599, rank=1) Homo sapiens:chromosome:2:96321135-96321731:-1\n",
      "Exon(stableid=ENSE00001760016, rank=2) Homo sapiens:chromosome:2:96307262-96307406:-1\n",
      "Intron(TranscriptId=ENST00000421534, rank=1) Homo sapiens:chromosome:2:96307406-96321135:-1\n",
      "\n",
      " ITPRIPL1 96325330 96330517\n",
      "Exon(stableid=ENSE00001435085, rank=1) Homo sapiens:chromosome:2:96326222-96330517:1\n",
      "\n",
      " NCAPH 96335786 96373845\n",
      "Exon(stableid=ENSE00001893240, rank=1) Homo sapiens:chromosome:2:96335786-96335848:1\n",
      "Exon(stableid=ENSE00000770619, rank=2) Homo sapiens:chromosome:2:96341641-96341894:1\n",
      "Exon(stableid=ENSE00003653556, rank=3) Homo sapiens:chromosome:2:96342049-96342140:1\n",
      "Exon(stableid=ENSE00003602184, rank=4) Homo sapiens:chromosome:2:96342755-96342848:1\n",
      "Exon(stableid=ENSE00003650085, rank=5) Homo sapiens:chromosome:2:96343165-96343304:1\n",
      "Exon(stableid=ENSE00003563081, rank=6) Homo sapiens:chromosome:2:96344104-96344229:1\n",
      "Exon(stableid=ENSE00003648879, rank=7) Homo sapiens:chromosome:2:96351830-96352020:1\n",
      "Exon(stableid=ENSE00003492999, rank=8) Homo sapiens:chromosome:2:96353305-96353397:1\n",
      "Exon(stableid=ENSE00003564727, rank=9) Homo sapiens:chromosome:2:96354182-96354388:1\n",
      "Exon(stableid=ENSE00000820568, rank=10) Homo sapiens:chromosome:2:96359044-96359193:1\n",
      "Exon(stableid=ENSE00000820569, rank=11) Homo sapiens:chromosome:2:96360142-96360249:1\n",
      "Exon(stableid=ENSE00000770610, rank=12) Homo sapiens:chromosome:2:96360587-96360710:1\n",
      "Exon(stableid=ENSE00000770609, rank=13) Homo sapiens:chromosome:2:96364480-96364591:1\n",
      "Exon(stableid=ENSE00000770608, rank=14) Homo sapiens:chromosome:2:96365875-96366058:1\n",
      "Exon(stableid=ENSE00000820570, rank=15) Homo sapiens:chromosome:2:96367256-96367373:1\n",
      "Exon(stableid=ENSE00000770607, rank=16) Homo sapiens:chromosome:2:96368971-96369063:1\n",
      "Exon(stableid=ENSE00000770606, rank=17) Homo sapiens:chromosome:2:96369424-96369500:1\n",
      "Exon(stableid=ENSE00001154337, rank=18) Homo sapiens:chromosome:2:96373291-96373845:1\n",
      "Intron(TranscriptId=ENST00000240423, rank=1) Homo sapiens:chromosome:2:96335848-96341641:1\n",
      "Intron(TranscriptId=ENST00000240423, rank=2) Homo sapiens:chromosome:2:96341894-96342049:1\n",
      "Intron(TranscriptId=ENST00000240423, rank=3) Homo sapiens:chromosome:2:96342140-96342755:1\n",
      "Intron(TranscriptId=ENST00000240423, rank=4) Homo sapiens:chromosome:2:96342848-96343165:1\n",
      "Intron(TranscriptId=ENST00000240423, rank=5) Homo sapiens:chromosome:2:96343304-96344104:1\n",
      "Intron(TranscriptId=ENST00000240423, rank=6) Homo sapiens:chromosome:2:96344229-96351830:1\n",
      "Intron(TranscriptId=ENST00000240423, rank=7) Homo sapiens:chromosome:2:96352020-96353305:1\n",
      "Intron(TranscriptId=ENST00000240423, rank=8) Homo sapiens:chromosome:2:96353397-96354182:1\n",
      "Intron(TranscriptId=ENST00000240423, rank=9) Homo sapiens:chromosome:2:96354388-96359044:1\n",
      "Intron(TranscriptId=ENST00000240423, rank=10) Homo sapiens:chromosome:2:96359193-96360142:1\n",
      "Intron(TranscriptId=ENST00000240423, rank=11) Homo sapiens:chromosome:2:96360249-96360587:1\n",
      "Intron(TranscriptId=ENST00000240423, rank=12) Homo sapiens:chromosome:2:96360710-96364480:1\n",
      "Intron(TranscriptId=ENST00000240423, rank=13) Homo sapiens:chromosome:2:96364591-96365875:1\n",
      "Intron(TranscriptId=ENST00000240423, rank=14) Homo sapiens:chromosome:2:96366058-96367256:1\n",
      "Intron(TranscriptId=ENST00000240423, rank=15) Homo sapiens:chromosome:2:96367373-96368971:1\n",
      "Intron(TranscriptId=ENST00000240423, rank=16) Homo sapiens:chromosome:2:96369063-96369424:1\n",
      "Intron(TranscriptId=ENST00000240423, rank=17) Homo sapiens:chromosome:2:96369500-96373291:1\n"
     ]
    }
   ],
   "source": [
    "start = lo.convert_coordinate(chrom, 96985244)[0][1]\n",
    "end   = lo.convert_coordinate(chrom, 97005244)[0][1]\n",
    "\n",
    "print(start, end)\n",
    "locate_genes(start, end)"
   ]
  },
  {
   "cell_type": "markdown",
   "metadata": {},
   "source": [
    "chr2:97165244-97185244 (D)"
   ]
  },
  {
   "cell_type": "code",
   "execution_count": 6,
   "metadata": {},
   "outputs": [
    {
     "name": "stdout",
     "output_type": "stream",
     "text": [
      "96499507 96519507\n",
      "\n",
      " NEURL3 96497642 96508109\n",
      "Exon(stableid=ENSE00001616021, rank=1) Homo sapiens:chromosome:2:96505258-96505357:-1\n",
      "Exon(stableid=ENSE00003602863, rank=2) Homo sapiens:chromosome:2:96500438-96500924:-1\n",
      "Exon(stableid=ENSE00003743593, rank=3) Homo sapiens:chromosome:2:96499377-96499449:-1\n",
      "Exon(stableid=ENSE00001795020, rank=4) Homo sapiens:chromosome:2:96497642-96498446:-1\n",
      "Intron(TranscriptId=ENST00000451794, rank=1) Homo sapiens:chromosome:2:96500924-96505258:-1\n",
      "Intron(TranscriptId=ENST00000451794, rank=2) Homo sapiens:chromosome:2:96499449-96500438:-1\n",
      "Intron(TranscriptId=ENST00000451794, rank=3) Homo sapiens:chromosome:2:96498446-96499377:-1\n"
     ]
    }
   ],
   "source": [
    "start = lo.convert_coordinate(chrom, 97165244)[0][1]\n",
    "end   = lo.convert_coordinate(chrom, 97185244)[0][1]\n",
    "\n",
    "print(start, end)\n",
    "locate_genes(start, end)"
   ]
  },
  {
   "cell_type": "code",
   "execution_count": 4,
   "metadata": {},
   "outputs": [
    {
     "data": {
      "text/plain": [
       "0.0"
      ]
     },
     "execution_count": 4,
     "metadata": {},
     "output_type": "execute_result"
    }
   ],
   "source": [
    "from scipy.special import binom\n",
    "binom(4,5)"
   ]
  },
  {
   "cell_type": "code",
   "execution_count": null,
   "metadata": {},
   "outputs": [],
   "source": [
    "\n"
   ]
  }
 ],
 "metadata": {
  "anaconda-cloud": {},
  "kernelspec": {
   "display_name": "Python 3",
   "language": "python",
   "name": "python3"
  },
  "language_info": {
   "codemirror_mode": {
    "name": "ipython",
    "version": 3
   },
   "file_extension": ".py",
   "mimetype": "text/x-python",
   "name": "python",
   "nbconvert_exporter": "python",
   "pygments_lexer": "ipython3",
   "version": "3.7.3"
  }
 },
 "nbformat": 4,
 "nbformat_minor": 1
}
