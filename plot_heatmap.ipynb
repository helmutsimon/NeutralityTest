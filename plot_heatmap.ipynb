{
 "cells": [
  {
   "cell_type": "markdown",
   "metadata": {},
   "source": [
    "## Plot heatmap\n",
    "\n",
    "Print heatmaps from csv files produced by analyse_region_by_population.py / vcf_1KG.create_heatmap_table"
   ]
  },
  {
   "cell_type": "code",
   "execution_count": 1,
   "metadata": {},
   "outputs": [],
   "source": [
    "import numpy as np\n",
    "import pandas as pd\n",
    "import datetime\n",
    "import matplotlib\n",
    "import matplotlib.pyplot as plt\n",
    "import seaborn as sns\n",
    "from matplotlib.backends.backend_pdf import PdfPages\n",
    "\n",
    "\n",
    "def print_heatmap_pdf(pdfname, heat_table, colors, vmin, vmax, label, savepdf=True, properties=dict()):\n",
    "    \"\"\"\n",
    "    Print heatmap as pdf.\n",
    "\n",
    "    \"\"\"\n",
    "    with PdfPages(pdfname) as pdf:\n",
    "        fig = plt.figure(figsize=(20, 7))\n",
    "        sns.set_style(\"whitegrid\")\n",
    "        cmap = matplotlib.colors.ListedColormap(colors)  # Create a new colormap with colors\n",
    "        ax = sns.heatmap(heat_table, cmap=cmap, cbar_kws={'label': label}, vmin=vmin, vmax=vmax)\n",
    "        ax.set_xlabel('Segment (GRCh37 coordinates)')\n",
    "        ax.set_ylabel('Population')\n",
    "        d = pdf.infodict()\n",
    "        for key in properties:\n",
    "            d[key] = properties[key]\n",
    "        if savepdf:\n",
    "            pdf.savefig(fig, orientation='landscape')\n",
    "    return fig"
   ]
  },
  {
   "cell_type": "markdown",
   "metadata": {},
   "source": [
    "Print heatmaps for $\\rho$"
   ]
  },
  {
   "cell_type": "code",
   "execution_count": 2,
   "metadata": {},
   "outputs": [
    {
     "data": {
      "image/png": "[encoded data removed]",
      "text/plain": [
       "<Figure size 1440x504 with 2 Axes>"
      ]
     },
     "metadata": {
      "needs_background": "light"
     },
     "output_type": "display_data"
    }
   ],
   "source": [
    "monochrome = True\n",
    "# Determine if plot is monochrome or colour.\n",
    "\n",
    "c = np.linspace(0,1,101)\n",
    "if monochrome:\n",
    "    colors = plt.get_cmap(\"Blues_r\",101)(c)\n",
    "    c0, c1 = colors[0].copy(), colors[100].copy()\n",
    "    colors[22: 101] = c0\n",
    "    colors[0: 22] = c1\n",
    "else:\n",
    "    colors = plt.get_cmap(\"cubehelix\", 101)(c)\n",
    "    colors = np.flip(colors, axis=0)\n",
    "\n",
    "fname = '/Users/helmutsimon/Google Drive/Genetics/Bayes SFS/Neutrality test/data/chr2_heat_table_rlnt008.csv'\n",
    "properties = {'Title': 'Selection heatmap for chromosome 2q11.1',\\\n",
    "              'Subject': 'Data file:' + fname,\n",
    "              'Author': 'Helmut Simon',\n",
    "              'Keywords': '$\\\\rho $',\n",
    "              'CreationDate': datetime.datetime.today()}\n",
    "heat_table = pd.read_csv(fname, sep=',', index_col=0)\n",
    "pdfname = '/Users/helmutsimon/Google Drive/Genetics/Bayes SFS/Neutrality test/heatmap_chr2q_rho_demog_mono_008.pdf'\n",
    "fig = print_heatmap_pdf(pdfname, heat_table, colors, -2, 8, '$\\\\rho $',\\\n",
    "                                savepdf=True, properties=properties)\n",
    "plt.show()"
   ]
  },
  {
   "cell_type": "markdown",
   "metadata": {},
   "source": [
    "Plot heatmaps for Tajima's D"
   ]
  },
  {
   "cell_type": "code",
   "execution_count": null,
   "metadata": {},
   "outputs": [],
   "source": [
    "monochrome = False              # Determine if plot is monochrome or colour.\n",
    "\n",
    "c = np.linspace(0,1,101)\n",
    "if monochrome:\n",
    "    colors = plt.get_cmap(\"Blues_r\",101)(c)\n",
    "    c0, c1 = colors[0].copy(), colors[100].copy()\n",
    "    colors[32: 101] = c1\n",
    "    colors[0: 32] = c0\n",
    "else:\n",
    "    colors = plt.get_cmap(\"cubehelix\", 101)(c)\n",
    "    \n",
    "fname = '/Users/helmutsimon/Google Drive/Genetics/Bayes SFS/Neutrality test/data/chr2_heat_table_tajd007.csv'\n",
    "properties = {'Title': 'Selection heatmap for chromosome 2q11.1',\\\n",
    "              'Subject': 'Data file:' + fname,\n",
    "              'Author': 'Helmut Simon',\n",
    "              'Keywords': 'Tajima\\'s D',\n",
    "              'CreationDate': datetime.datetime.today()}\n",
    "heat_table = pd.read_csv(fname, sep=',', index_col=0)\n",
    "pdfname = '/Users/helmutsimon/Google Drive/Genetics/Bayes SFS/Neutrality test/heatmap_chr2q_TajD_col.pdf'\n",
    "fig = print_heatmap_pdf(pdfname, heat_table, colors, -2.5, 0, 'Tajima\\'s D',\\\n",
    "                                savepdf=True, properties=properties)\n",
    "plt.show()"
   ]
  },
  {
   "cell_type": "code",
   "execution_count": null,
   "metadata": {},
   "outputs": [],
   "source": []
  }
 ],
 "metadata": {
  "kernelspec": {
   "display_name": "Python 3",
   "language": "python",
   "name": "python3"
  },
  "language_info": {
   "codemirror_mode": {
    "name": "ipython",
    "version": 3
   },
   "file_extension": ".py",
   "mimetype": "text/x-python",
   "name": "python",
   "nbconvert_exporter": "python",
   "pygments_lexer": "ipython3",
   "version": "3.7.3"
  }
 },
 "nbformat": 4,
 "nbformat_minor": 2
}
