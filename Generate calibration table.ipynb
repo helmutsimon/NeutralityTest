{
 "cells": [
  {
   "cell_type": "markdown",
   "metadata": {},
   "source": [
    "## Generate calibration table\n",
    "\n",
    "Generate calibration table for Mewthods section."
   ]
  },
  {
   "cell_type": "code",
   "execution_count": null,
   "metadata": {},
   "outputs": [],
   "source": [
    "import os\n",
    "import numpy as np\n",
    "import pandas as pd\n",
    "from cogent3 import make_table\n",
    "from cogent3.util.table import Table\n",
    "from time import time\n",
    "\n",
    "\n",
    "projdir = \"/Users/helmutsimon/repos/selectiontest/selectiontest\"\n",
    "if not os.getcwd() == projdir:\n",
    "    os.chdir(projdir)\n",
    "from selectiontest import compute_threshold, sample_wf_distribution, sample_uniform_distribution\n",
    "\n",
    "\n",
    "start_time = time()"
   ]
  },
  {
   "cell_type": "code",
   "execution_count": null,
   "metadata": {},
   "outputs": [],
   "source": [
    "start_time = time()\n",
    "seg_site_values = [5, 10, 20, 100]\n",
    "thresholds = list()\n",
    "results = list()\n",
    "for seg_sites in seg_site_values:\n",
    "    thresholds = list()\n",
    "    for n in [10, 20, 100, 1000]:\n",
    "        thr = compute_threshold(n, seg_sites, reps=10000, fpr=0.02)  #don't need last 2 params\n",
    "        duration = time() - start_time\n",
    "        print(\"%.2f\" % (duration / 60.), \"%3d\" % seg_sites, \"%4d\" % n, \"%.3f\" % thr)\n",
    "        thresholds.append(thr)\n",
    "    results.append(thresholds)\n",
    "results"
   ]
  },
  {
   "cell_type": "markdown",
   "metadata": {},
   "source": [
    "Generate latex code for Table 1 in manuscript."
   ]
  },
  {
   "cell_type": "code",
   "execution_count": null,
   "metadata": {},
   "outputs": [],
   "source": [
    "path = \"/Users/helmutsimon/Google Drive/Genetics/Bayes SFS/Neutrality test\"          \n",
    "# Insert required path\n",
    "if not os.getcwd() == path:\n",
    "    os.chdir(path)\n",
    "column_headings = ['$S_n$', 'n=10', 'n=20', 'n=100', 'n=1000']\n",
    "rows = [[str(s)] + row for s, row in zip(seg_site_values, results)]\n",
    "t = Table(header=column_headings, rows=rows, title=\"Thresholds used for $\\\\rho $ to test the hypothesis of neutrality\\\n",
    " for the sample sizes ($n$) and numbers of segregating sites ($S_n$) shown. The number of simulations run\\\n",
    " in each case is 10,000.\", digits=2)\n",
    "t.write(\"thr2.tex\", label=\"tab:1\", justify=\"lcccc\")"
   ]
  },
  {
   "cell_type": "code",
   "execution_count": null,
   "metadata": {},
   "outputs": [],
   "source": [
    "t"
   ]
  },
  {
   "cell_type": "markdown",
   "metadata": {},
   "source": [
    "Generate Supplementary Table of thresholds for Tajima's D"
   ]
  }
 ],
 "metadata": {
  "kernelspec": {
   "display_name": "Python 3",
   "language": "python",
   "name": "python3"
  },
  "language_info": {
   "codemirror_mode": {
    "name": "ipython",
    "version": 3
   },
   "file_extension": ".py",
   "mimetype": "text/x-python",
   "name": "python",
   "nbconvert_exporter": "python",
   "pygments_lexer": "ipython3",
   "version": "3.7.3"
  }
 },
 "nbformat": 4,
 "nbformat_minor": 1
}
