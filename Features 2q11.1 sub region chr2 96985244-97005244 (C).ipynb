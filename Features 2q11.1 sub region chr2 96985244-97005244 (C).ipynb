{
 "cells": [
  {
   "cell_type": "markdown",
   "metadata": {},
   "source": [
    "## Features 2q11.1 sub region chr2 96985244-97005244 (C)"
   ]
  },
  {
   "cell_type": "markdown",
   "metadata": {},
   "source": [
    "Analysis of genomic features in this region as discussed in manuscript. \n",
    "Regions are identified using GRCh37 (1KG) coordinates"
   ]
  },
  {
   "cell_type": "code",
   "execution_count": 1,
   "metadata": {},
   "outputs": [],
   "source": [
    "import sys, os\n",
    "import pickle, gzip\n",
    "import pandas as pd\n",
    "from pyliftover import LiftOver\n",
    "from sqlalchemy.sql import and_, not_, select\n",
    "import decimal\n",
    "from ensembldb3 import HostAccount, Genome\n",
    "from Bio import SeqUtils\n",
    "\n",
    "path = '/home/helmut/helmutsimonpython/helmutsimonpython/Neighbourhood_Effects'\n",
    "if not os.getcwd() == path:\n",
    "    os.chdir(path)\n",
    "\n",
    "account = HostAccount(*os.environ['ENSEMBL_ACCOUNT'].split())\n",
    "release = 89\n",
    "genome = Genome(species='human', release=release, account=account)"
   ]
  },
  {
   "cell_type": "markdown",
   "metadata": {},
   "source": [
    "Convert from 1KGP (GRCh37) to GRCh38 coordinates and look for genes in this sub region."
   ]
  },
  {
   "cell_type": "code",
   "execution_count": 2,
   "metadata": {},
   "outputs": [
    {
     "name": "stdout",
     "output_type": "stream",
     "text": [
      "96319506 96339506\n",
      "\n",
      " AC021188.1 96307262 96321731\n",
      "Exon(stableid=ENSE00001666599, rank=1) Homo sapiens:chromosome:2:96321135-96321731:-1\n",
      "Exon(stableid=ENSE00001760016, rank=2) Homo sapiens:chromosome:2:96307262-96307406:-1\n",
      "Intron(TranscriptId=ENST00000421534, rank=1) Homo sapiens:chromosome:2:96307406-96321135:-1\n",
      "\n",
      " ITPRIPL1 96325330 96330517\n",
      "Exon(stableid=ENSE00001435085, rank=1) Homo sapiens:chromosome:2:96326222-96330517:1\n",
      "\n",
      " NCAPH 96335786 96373845\n",
      "Exon(stableid=ENSE00001893240, rank=1) Homo sapiens:chromosome:2:96335786-96335848:1\n",
      "Exon(stableid=ENSE00000770619, rank=2) Homo sapiens:chromosome:2:96341641-96341894:1\n",
      "Exon(stableid=ENSE00003653556, rank=3) Homo sapiens:chromosome:2:96342049-96342140:1\n",
      "Exon(stableid=ENSE00003602184, rank=4) Homo sapiens:chromosome:2:96342755-96342848:1\n",
      "Exon(stableid=ENSE00003650085, rank=5) Homo sapiens:chromosome:2:96343165-96343304:1\n",
      "Exon(stableid=ENSE00003563081, rank=6) Homo sapiens:chromosome:2:96344104-96344229:1\n",
      "Exon(stableid=ENSE00003648879, rank=7) Homo sapiens:chromosome:2:96351830-96352020:1\n",
      "Exon(stableid=ENSE00003492999, rank=8) Homo sapiens:chromosome:2:96353305-96353397:1\n",
      "Exon(stableid=ENSE00003564727, rank=9) Homo sapiens:chromosome:2:96354182-96354388:1\n",
      "Exon(stableid=ENSE00000820568, rank=10) Homo sapiens:chromosome:2:96359044-96359193:1\n",
      "Exon(stableid=ENSE00000820569, rank=11) Homo sapiens:chromosome:2:96360142-96360249:1\n",
      "Exon(stableid=ENSE00000770610, rank=12) Homo sapiens:chromosome:2:96360587-96360710:1\n",
      "Exon(stableid=ENSE00000770609, rank=13) Homo sapiens:chromosome:2:96364480-96364591:1\n",
      "Exon(stableid=ENSE00000770608, rank=14) Homo sapiens:chromosome:2:96365875-96366058:1\n",
      "Exon(stableid=ENSE00000820570, rank=15) Homo sapiens:chromosome:2:96367256-96367373:1\n",
      "Exon(stableid=ENSE00000770607, rank=16) Homo sapiens:chromosome:2:96368971-96369063:1\n",
      "Exon(stableid=ENSE00000770606, rank=17) Homo sapiens:chromosome:2:96369424-96369500:1\n",
      "Exon(stableid=ENSE00001154337, rank=18) Homo sapiens:chromosome:2:96373291-96373845:1\n",
      "Intron(TranscriptId=ENST00000240423, rank=1) Homo sapiens:chromosome:2:96335848-96341641:1\n",
      "Intron(TranscriptId=ENST00000240423, rank=2) Homo sapiens:chromosome:2:96341894-96342049:1\n",
      "Intron(TranscriptId=ENST00000240423, rank=3) Homo sapiens:chromosome:2:96342140-96342755:1\n",
      "Intron(TranscriptId=ENST00000240423, rank=4) Homo sapiens:chromosome:2:96342848-96343165:1\n",
      "Intron(TranscriptId=ENST00000240423, rank=5) Homo sapiens:chromosome:2:96343304-96344104:1\n",
      "Intron(TranscriptId=ENST00000240423, rank=6) Homo sapiens:chromosome:2:96344229-96351830:1\n",
      "Intron(TranscriptId=ENST00000240423, rank=7) Homo sapiens:chromosome:2:96352020-96353305:1\n",
      "Intron(TranscriptId=ENST00000240423, rank=8) Homo sapiens:chromosome:2:96353397-96354182:1\n",
      "Intron(TranscriptId=ENST00000240423, rank=9) Homo sapiens:chromosome:2:96354388-96359044:1\n",
      "Intron(TranscriptId=ENST00000240423, rank=10) Homo sapiens:chromosome:2:96359193-96360142:1\n",
      "Intron(TranscriptId=ENST00000240423, rank=11) Homo sapiens:chromosome:2:96360249-96360587:1\n",
      "Intron(TranscriptId=ENST00000240423, rank=12) Homo sapiens:chromosome:2:96360710-96364480:1\n",
      "Intron(TranscriptId=ENST00000240423, rank=13) Homo sapiens:chromosome:2:96364591-96365875:1\n",
      "Intron(TranscriptId=ENST00000240423, rank=14) Homo sapiens:chromosome:2:96366058-96367256:1\n",
      "Intron(TranscriptId=ENST00000240423, rank=15) Homo sapiens:chromosome:2:96367373-96368971:1\n",
      "Intron(TranscriptId=ENST00000240423, rank=16) Homo sapiens:chromosome:2:96369063-96369424:1\n",
      "Intron(TranscriptId=ENST00000240423, rank=17) Homo sapiens:chromosome:2:96369500-96373291:1\n"
     ]
    }
   ],
   "source": [
    "chrom = 'chr2'\n",
    "coord_name = '2'\n",
    "lo = LiftOver('hg19', 'hg38')\n",
    "\n",
    "start = lo.convert_coordinate(chrom, 96985244)[0][1]\n",
    "end   = lo.convert_coordinate(chrom, 97005244)[0][1]\n",
    "\n",
    "print(start, end)\n",
    "genes = genome.get_features(coord_name=coord_name, start=start, end=end, feature_types=\"gene\")\n",
    "for gene in genes:\n",
    "    gstart = gene.location.start\n",
    "    gend = gene.location.end\n",
    "    print('\\n', gene.symbol, gstart, gend)\n",
    "    for exon in gene.canonical_transcript.exons:\n",
    "        print(exon, exon.location)\n",
    "    if gene.canonical_transcript.introns:\n",
    "        for intron in gene.canonical_transcript.introns:\n",
    "            print(intron, intron.location)"
   ]
  },
  {
   "cell_type": "markdown",
   "metadata": {},
   "source": [
    "Look for genes in the 2-kb sub-segment starting with 96987244"
   ]
  },
  {
   "cell_type": "code",
   "execution_count": 3,
   "metadata": {},
   "outputs": [
    {
     "name": "stdout",
     "output_type": "stream",
     "text": [
      "96321506 96323506\n",
      "\n",
      " AC021188.1 96307262 96321731\n",
      "Exon(stableid=ENSE00001666599, rank=1) Homo sapiens:chromosome:2:96321135-96321731:-1\n",
      "Exon(stableid=ENSE00001760016, rank=2) Homo sapiens:chromosome:2:96307262-96307406:-1\n",
      "Intron(TranscriptId=ENST00000421534, rank=1) Homo sapiens:chromosome:2:96307406-96321135:-1\n"
     ]
    }
   ],
   "source": [
    "chrom = 'chr2'\n",
    "coord_name = '2'\n",
    "lo = LiftOver('hg19', 'hg38')\n",
    "\n",
    "start = lo.convert_coordinate(chrom, 96987244)[0][1]\n",
    "end   = lo.convert_coordinate(chrom, 96989244)[0][1]\n",
    "\n",
    "print(start, end)\n",
    "genes = genome.get_features(coord_name=coord_name, start=start, end=end, feature_types=\"gene\")\n",
    "for gene in genes:\n",
    "    gstart = gene.location.start\n",
    "    gend = gene.location.end\n",
    "    print('\\n', gene.symbol, gstart, gend)\n",
    "    for exon in gene.canonical_transcript.exons:\n",
    "        print(exon, exon.location)\n",
    "    for intron in gene.canonical_transcript.introns:\n",
    "        print(intron, intron.location)\n",
    "  "
   ]
  },
  {
   "cell_type": "markdown",
   "metadata": {},
   "source": [
    "Search the 2-kb sub-segment starting with 96987244 for regulatory variants (see Neutrality Test manuscript). We then search for the associted regulatory feature."
   ]
  },
  {
   "cell_type": "code",
   "execution_count": 4,
   "metadata": {},
   "outputs": [
    {
     "name": "stdout",
     "output_type": "stream",
     "text": [
      "('rs148475229', 32896602, 96321523, {'regulatory_region_variant', 'non_coding_transcript_exon_variant', 'upstream_gene_variant'})\n",
      "('rs533407893', 66091165, 96321548, {'regulatory_region_variant', 'non_coding_transcript_exon_variant', 'upstream_gene_variant'})\n",
      "('rs544114957', 76765206, 96321664, {'regulatory_region_variant', 'non_coding_transcript_exon_variant', 'upstream_gene_variant'})\n",
      "('rs116248005', 22990503, 96321719, {'regulatory_region_variant', 'non_coding_transcript_exon_variant', 'upstream_gene_variant'})\n",
      "('rs189388509', 43984094, 96321835, {'regulatory_region_variant', 'upstream_gene_variant'})\n",
      "('rs142815503', 28178665, 96321836, {'regulatory_region_variant', 'upstream_gene_variant'})\n",
      "('rs375589031', 57487398, 96321838, {'regulatory_region_variant', 'upstream_gene_variant'})\n",
      "('rs528144556', 60844103, 96321924, {'regulatory_region_variant', 'upstream_gene_variant'})\n",
      "('rs547517849', 80157664, 96321942, {'regulatory_region_variant', 'upstream_gene_variant'})\n",
      "('rs570343021', 102912061, 96321977, {'regulatory_region_variant', 'upstream_gene_variant'})\n",
      "('rs539080325', 71746098, 96321995, {'regulatory_region_variant', 'upstream_gene_variant'})\n",
      "('rs62153902', 12688154, 96322004, {'regulatory_region_variant', 'upstream_gene_variant'})\n",
      "('rs34214042', 9353440, 96322029, {'regulatory_region_variant', 'upstream_gene_variant'})\n",
      "('rs569584247', 102155671, 96322033, {'regulatory_region_variant', 'upstream_gene_variant'})\n",
      "('rs535374862', 68052150, 96322034, {'regulatory_region_variant', 'upstream_gene_variant'})\n",
      "('rs555227723', 87843633, 96322077, {'regulatory_region_variant', 'upstream_gene_variant'})\n",
      "('rs572206831', 104770083, 96322108, {'regulatory_region_variant', 'upstream_gene_variant'})\n",
      "('rs534801912', 67480931, 96322237, {'upstream_gene_variant'})\n",
      "('rs34744310', 9757132, 96322257, {'upstream_gene_variant'})\n",
      "('rs202135630', 50299475, 96322345, {'upstream_gene_variant'})\n",
      "('rs558268135', 90874703, 96322371, {'upstream_gene_variant'})\n",
      "('rs543988008', 76638659, 96322441, {'upstream_gene_variant'})\n",
      "('rs543813273', 76464469, 96322482, {'upstream_gene_variant'})\n",
      "('rs563690581', 96280459, 96322501, {'upstream_gene_variant'})\n",
      "('rs185782207', 40382678, 96322526, {'upstream_gene_variant'})\n",
      "('rs553449866', 86071266, 96322537, {'upstream_gene_variant'})\n",
      "('rs543347358', 75999906, 96322569, {'upstream_gene_variant'})\n",
      "('rs573411215', 105970703, 96322638, {'upstream_gene_variant'})\n",
      "('rs559689979', 92292101, 96322716, {'upstream_gene_variant'})\n",
      "('rs528724153', 61421925, 96322744, {'upstream_gene_variant'})\n",
      "('rs547160022', 79800920, 96322747, {'upstream_gene_variant'})\n",
      "('rs75851082', 15836212, 96322811, {'upstream_gene_variant'})\n",
      "('rs550166191', 82797765, 96322840, {'upstream_gene_variant'})\n",
      "('rs190636222', 45230208, 96322949, {'upstream_gene_variant'})\n",
      "('rs141006570', 26667241, 96322956, {'upstream_gene_variant'})\n",
      "('rs79489551', 18262091, 96322960, {'upstream_gene_variant'})\n",
      "('rs549303125', 81937338, 96322987, {'upstream_gene_variant'})\n",
      "('rs147941249', 32452107, 96322995, {'upstream_gene_variant'})\n",
      "('rs375498812', 57408638, 96323014, {'upstream_gene_variant'})\n",
      "('rs534849459', 67528353, 96323078, {'upstream_gene_variant'})\n",
      "('rs557692549', 90300878, 96323101, {'upstream_gene_variant'})\n",
      "('rs578120269', 110665174, 96323127, {'upstream_gene_variant'})\n",
      "('rs78568035', 17648138, 96323164, {'upstream_gene_variant'})\n",
      "('rs141762102', 27298873, 96323292, {'upstream_gene_variant'})\n",
      "('rs574130149', 106687480, 96323381, {'upstream_gene_variant'})\n",
      "('rs181307009', 35913429, 96323397, {'upstream_gene_variant'})\n",
      "('rs560029414', 92630482, 96323459, {'upstream_gene_variant'})\n",
      "[32896602, 66091165, 76765206, 22990503, 43984094, 28178665, 57487398, 60844103, 80157664, 102912061, 71746098, 12688154, 9353440, 102155671, 68052150, 87843633, 104770083, 67480931, 9757132, 50299475, 90874703, 76638659, 76464469, 96280459, 40382678, 86071266, 75999906, 105970703, 92292101, 61421925, 79800920, 15836212, 82797765, 45230208, 26667241, 18262091, 81937338, 32452107, 57408638, 67528353, 90300878, 110665174, 17648138, 27298873, 106687480, 35913429, 92630482]\n",
      "('ENSR00000120257', 32896602, 'Promoter', {'regulatory_region_variant'})\n",
      "('ENSR00000120257', 66091165, 'Promoter', {'regulatory_region_variant'})\n",
      "('ENSR00000120257', 76765206, 'Promoter', {'regulatory_region_variant'})\n",
      "('ENSR00000120257', 22990503, 'Promoter', {'regulatory_region_variant'})\n",
      "('ENSR00000120257', 43984094, 'Promoter', {'regulatory_region_variant'})\n",
      "('ENSR00000120257', 28178665, 'Promoter', {'regulatory_region_variant'})\n",
      "('ENSR00000120257', 57487398, 'Promoter', {'regulatory_region_variant'})\n",
      "('ENSR00000120257', 60844103, 'Promoter', {'regulatory_region_variant'})\n",
      "('ENSR00000120257', 80157664, 'Promoter', {'regulatory_region_variant'})\n",
      "('ENSR00000120257', 80157664, 'Promoter', {'regulatory_region_variant'})\n",
      "('ENSR00000120257', 102912061, 'Promoter', {'regulatory_region_variant'})\n",
      "('ENSR00000120257', 71746098, 'Promoter', {'regulatory_region_variant'})\n",
      "('ENSR00000120257', 12688154, 'Promoter', {'regulatory_region_variant'})\n",
      "('ENSR00000120257', 9353440, 'Promoter', {'regulatory_region_variant'})\n",
      "('ENSR00000120257', 102155671, 'Promoter', {'regulatory_region_variant'})\n",
      "('ENSR00000120257', 68052150, 'Promoter', {'regulatory_region_variant'})\n",
      "('ENSR00000120257', 87843633, 'Promoter', {'regulatory_region_variant'})\n",
      "('ENSR00000120257', 104770083, 'Promoter', {'regulatory_region_variant'})\n",
      "('ENSR00000120257', 32896602, 'Promoter', {'regulatory_region_variant'})\n",
      "('ENSR00000120257', 66091165, 'Promoter', {'regulatory_region_variant'})\n",
      "('ENSR00000120257', 76765206, 'Promoter', {'regulatory_region_variant'})\n",
      "('ENSR00000120257', 22990503, 'Promoter', {'regulatory_region_variant'})\n",
      "('ENSR00000120257', 43984094, 'Promoter', {'regulatory_region_variant'})\n",
      "('ENSR00000120257', 28178665, 'Promoter', {'regulatory_region_variant'})\n",
      "('ENSR00000120257', 57487398, 'Promoter', {'regulatory_region_variant'})\n",
      "('ENSR00000120257', 60844103, 'Promoter', {'regulatory_region_variant'})\n",
      "('ENSR00000120257', 80157664, 'Promoter', {'regulatory_region_variant'})\n",
      "('ENSR00000120257', 80157664, 'Promoter', {'regulatory_region_variant'})\n",
      "('ENSR00000120257', 102912061, 'Promoter', {'regulatory_region_variant'})\n",
      "('ENSR00000120257', 71746098, 'Promoter', {'regulatory_region_variant'})\n",
      "('ENSR00000120257', 12688154, 'Promoter', {'regulatory_region_variant'})\n",
      "('ENSR00000120257', 9353440, 'Promoter', {'regulatory_region_variant'})\n",
      "('ENSR00000120257', 102155671, 'Promoter', {'regulatory_region_variant'})\n",
      "('ENSR00000120257', 68052150, 'Promoter', {'regulatory_region_variant'})\n",
      "('ENSR00000120257', 87843633, 'Promoter', {'regulatory_region_variant'})\n",
      "('ENSR00000120257', 104770083, 'Promoter', {'regulatory_region_variant'})\n"
     ]
    }
   ],
   "source": [
    "seq_region_id = 131545\n",
    "chrom = 'chr2'\n",
    "coord_name = '2'\n",
    "lo = LiftOver('hg19', 'hg38')\n",
    "variation_feature_table = genome.VarDb.get_table('variation_feature')\n",
    "whereclause = and_(variation_feature_table.c.seq_region_id == seq_region_id,\n",
    "                        variation_feature_table.c.seq_region_start > start,\n",
    "                        variation_feature_table.c.seq_region_end < end,\n",
    "                        variation_feature_table.c.variation_name.contains(\"rs\"),\n",
    "                        variation_feature_table.c.somatic == 0,\n",
    "                        variation_feature_table.c.alignment_quality == decimal.Decimal(1),\n",
    "                        variation_feature_table.c.minor_allele_freq.isnot(None))\n",
    "query = select([variation_feature_table.c.variation_name,\n",
    "                    variation_feature_table.c.variation_feature_id,\n",
    "                    variation_feature_table.c.seq_region_start,\n",
    "                    variation_feature_table.c.consequence_types], whereclause)\n",
    "vfids = list()\n",
    "for snp in query.execute():\n",
    "    if snp[3] != {'intergenic_variant'}:\n",
    "        print(snp)\n",
    "        vfids.append(snp[1])\n",
    "print(vfids)\n",
    "regulatory_feature_variation_table = genome.VarDb.get_table('regulatory_feature_variation')\n",
    "whereclause1 = regulatory_feature_variation_table.c.variation_feature_id.in_(vfids)\n",
    "query = select([regulatory_feature_variation_table.c.feature_stable_id,\n",
    "                    regulatory_feature_variation_table.c.variation_feature_id,\n",
    "                    regulatory_feature_variation_table.c.feature_type,\n",
    "                    regulatory_feature_variation_table.c.consequence_types], whereclause1)\n",
    "for feature in query.execute():\n",
    "    print(feature)"
   ]
  },
  {
   "cell_type": "code",
   "execution_count": null,
   "metadata": {
    "collapsed": true
   },
   "outputs": [],
   "source": []
  }
 ],
 "metadata": {
  "anaconda-cloud": {},
  "kernelspec": {
   "display_name": "Python 3",
   "language": "python",
   "name": "python3"
  },
  "language_info": {
   "codemirror_mode": {
    "name": "ipython",
    "version": 3
   },
   "file_extension": ".py",
   "mimetype": "text/x-python",
   "name": "python",
   "nbconvert_exporter": "python",
   "pygments_lexer": "ipython3",
   "version": "3.7.3"
  }
 },
 "nbformat": 4,
 "nbformat_minor": 1
}
